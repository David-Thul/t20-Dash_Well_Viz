{
 "cells": [
  {
   "cell_type": "code",
   "execution_count": 33,
   "metadata": {},
   "outputs": [
    {
     "name": "stderr",
     "output_type": "stream",
     "text": [
      "Enabling notebook extension jupyter-leaflet/extension...\n",
      "      - Validating: ok\n"
     ]
    }
   ],
   "source": [
    "import pandas as pd\n",
    "import pyproj\n",
    "from pathlib import Path\n",
    "import plotly.express as px\n",
    "import plotly.graph_objects as go\n",
    "\n",
    "import geopandas as gpd\n",
    "\n",
    "from ipywidgets import *\n",
    "from ipyleaflet import *\n",
    "!jupyter nbextension enable --py --sys-prefix ipyleaflet\n"
   ]
  },
  {
   "cell_type": "code",
   "execution_count": 22,
   "metadata": {},
   "outputs": [],
   "source": [
    "Heads = pd.read_csv(str(Path('..') / 'Data' /'Well_Headers.csv'))"
   ]
  },
  {
   "cell_type": "code",
   "execution_count": 23,
   "metadata": {},
   "outputs": [
    {
     "data": {
      "text/html": [
       "<div>\n",
       "<style scoped>\n",
       "    .dataframe tbody tr th:only-of-type {\n",
       "        vertical-align: middle;\n",
       "    }\n",
       "\n",
       "    .dataframe tbody tr th {\n",
       "        vertical-align: top;\n",
       "    }\n",
       "\n",
       "    .dataframe thead th {\n",
       "        text-align: right;\n",
       "    }\n",
       "</style>\n",
       "<table border=\"1\" class=\"dataframe\">\n",
       "  <thead>\n",
       "    <tr style=\"text-align: right;\">\n",
       "      <th></th>\n",
       "      <th>Name</th>\n",
       "      <th>X</th>\n",
       "      <th>Y</th>\n",
       "      <th>Lat_D</th>\n",
       "      <th>Lat_M</th>\n",
       "      <th>Lat_S</th>\n",
       "      <th>Lat</th>\n",
       "      <th>Lon_D</th>\n",
       "      <th>Lon_M</th>\n",
       "      <th>Lon_S</th>\n",
       "      <th>Lon</th>\n",
       "      <th>DFE</th>\n",
       "      <th>TD_(TVDSS)</th>\n",
       "      <th>TD_(MD)</th>\n",
       "    </tr>\n",
       "  </thead>\n",
       "  <tbody>\n",
       "    <tr>\n",
       "      <th>0</th>\n",
       "      <td>Proteus_1</td>\n",
       "      <td>428152.83</td>\n",
       "      <td>8481148.02</td>\n",
       "      <td>-13</td>\n",
       "      <td>44</td>\n",
       "      <td>16.8752</td>\n",
       "      <td>-13.738021</td>\n",
       "      <td>122</td>\n",
       "      <td>20</td>\n",
       "      <td>7.6231</td>\n",
       "      <td>122.335451</td>\n",
       "      <td>21.8</td>\n",
       "      <td>5223.6</td>\n",
       "      <td>5249.7</td>\n",
       "    </tr>\n",
       "    <tr>\n",
       "      <th>1</th>\n",
       "      <td>Kronons_1</td>\n",
       "      <td>412599.26</td>\n",
       "      <td>8485490.73</td>\n",
       "      <td>-13</td>\n",
       "      <td>41</td>\n",
       "      <td>53.9802</td>\n",
       "      <td>-13.698328</td>\n",
       "      <td>122</td>\n",
       "      <td>11</td>\n",
       "      <td>30.2352</td>\n",
       "      <td>122.191732</td>\n",
       "      <td>21.8</td>\n",
       "      <td>5300.5</td>\n",
       "      <td>5329.0</td>\n",
       "    </tr>\n",
       "    <tr>\n",
       "      <th>2</th>\n",
       "      <td>Boreas_1</td>\n",
       "      <td>424077.28</td>\n",
       "      <td>8490107.52</td>\n",
       "      <td>-13</td>\n",
       "      <td>39</td>\n",
       "      <td>24.8717</td>\n",
       "      <td>-13.656909</td>\n",
       "      <td>122</td>\n",
       "      <td>17</td>\n",
       "      <td>52.7873</td>\n",
       "      <td>122.297996</td>\n",
       "      <td>21.8</td>\n",
       "      <td>5184.1</td>\n",
       "      <td>5210.0</td>\n",
       "    </tr>\n",
       "    <tr>\n",
       "      <th>3</th>\n",
       "      <td>Poseidon_1</td>\n",
       "      <td>425055.47</td>\n",
       "      <td>8493875.26</td>\n",
       "      <td>-13</td>\n",
       "      <td>37</td>\n",
       "      <td>22.3242</td>\n",
       "      <td>-13.622868</td>\n",
       "      <td>122</td>\n",
       "      <td>18</td>\n",
       "      <td>25.7039</td>\n",
       "      <td>122.307140</td>\n",
       "      <td>26.4</td>\n",
       "      <td>5070.3</td>\n",
       "      <td>5112.0</td>\n",
       "    </tr>\n",
       "    <tr>\n",
       "      <th>4</th>\n",
       "      <td>Pharos_1</td>\n",
       "      <td>435010.57</td>\n",
       "      <td>8487361.39</td>\n",
       "      <td>-13</td>\n",
       "      <td>40</td>\n",
       "      <td>55.2145</td>\n",
       "      <td>-13.682004</td>\n",
       "      <td>122</td>\n",
       "      <td>23</td>\n",
       "      <td>56.4780</td>\n",
       "      <td>122.399022</td>\n",
       "      <td>22.1</td>\n",
       "      <td>5197.3</td>\n",
       "      <td>5220.3</td>\n",
       "    </tr>\n",
       "    <tr>\n",
       "      <th>5</th>\n",
       "      <td>Poseidon_2</td>\n",
       "      <td>421661.83</td>\n",
       "      <td>8488800.77</td>\n",
       "      <td>-13</td>\n",
       "      <td>40</td>\n",
       "      <td>7.1748</td>\n",
       "      <td>-13.668660</td>\n",
       "      <td>122</td>\n",
       "      <td>16</td>\n",
       "      <td>32.2598</td>\n",
       "      <td>122.275628</td>\n",
       "      <td>21.8</td>\n",
       "      <td>5331.7</td>\n",
       "      <td>5356.0</td>\n",
       "    </tr>\n",
       "    <tr>\n",
       "      <th>6</th>\n",
       "      <td>Poseidon_North</td>\n",
       "      <td>428611.91</td>\n",
       "      <td>8499338.27</td>\n",
       "      <td>-13</td>\n",
       "      <td>34</td>\n",
       "      <td>24.8249</td>\n",
       "      <td>-13.573562</td>\n",
       "      <td>122</td>\n",
       "      <td>20</td>\n",
       "      <td>24.5557</td>\n",
       "      <td>122.340154</td>\n",
       "      <td>22.0</td>\n",
       "      <td>5263.3</td>\n",
       "      <td>5287.5</td>\n",
       "    </tr>\n",
       "    <tr>\n",
       "      <th>7</th>\n",
       "      <td>Torosa_1</td>\n",
       "      <td>399434.90</td>\n",
       "      <td>8466761.60</td>\n",
       "      <td>-13</td>\n",
       "      <td>52</td>\n",
       "      <td>2.0264</td>\n",
       "      <td>-13.867230</td>\n",
       "      <td>122</td>\n",
       "      <td>4</td>\n",
       "      <td>9.5897</td>\n",
       "      <td>122.069330</td>\n",
       "      <td>22.9</td>\n",
       "      <td>4645.4</td>\n",
       "      <td>4671.9</td>\n",
       "    </tr>\n",
       "  </tbody>\n",
       "</table>\n",
       "</div>"
      ],
      "text/plain": [
       "             Name          X           Y  Lat_D  Lat_M    Lat_S        Lat  \\\n",
       "0       Proteus_1  428152.83  8481148.02    -13     44  16.8752 -13.738021   \n",
       "1       Kronons_1  412599.26  8485490.73    -13     41  53.9802 -13.698328   \n",
       "2        Boreas_1  424077.28  8490107.52    -13     39  24.8717 -13.656909   \n",
       "3      Poseidon_1  425055.47  8493875.26    -13     37  22.3242 -13.622868   \n",
       "4        Pharos_1  435010.57  8487361.39    -13     40  55.2145 -13.682004   \n",
       "5      Poseidon_2  421661.83  8488800.77    -13     40   7.1748 -13.668660   \n",
       "6  Poseidon_North  428611.91  8499338.27    -13     34  24.8249 -13.573562   \n",
       "7        Torosa_1  399434.90  8466761.60    -13     52   2.0264 -13.867230   \n",
       "\n",
       "   Lon_D  Lon_M    Lon_S         Lon   DFE  TD_(TVDSS)  TD_(MD)  \n",
       "0    122     20   7.6231  122.335451  21.8      5223.6   5249.7  \n",
       "1    122     11  30.2352  122.191732  21.8      5300.5   5329.0  \n",
       "2    122     17  52.7873  122.297996  21.8      5184.1   5210.0  \n",
       "3    122     18  25.7039  122.307140  26.4      5070.3   5112.0  \n",
       "4    122     23  56.4780  122.399022  22.1      5197.3   5220.3  \n",
       "5    122     16  32.2598  122.275628  21.8      5331.7   5356.0  \n",
       "6    122     20  24.5557  122.340154  22.0      5263.3   5287.5  \n",
       "7    122      4   9.5897  122.069330  22.9      4645.4   4671.9  "
      ]
     },
     "execution_count": 23,
     "metadata": {},
     "output_type": "execute_result"
    }
   ],
   "source": [
    "#The Petrel project says the CRS is GDA94, I have converted to D M S to decimal (Lat and Lon columns)\n",
    "Heads"
   ]
  },
  {
   "cell_type": "code",
   "execution_count": 24,
   "metadata": {
    "scrolled": true
   },
   "outputs": [
    {
     "data": {
      "application/vnd.plotly.v1+json": {
       "config": {
        "plotlyServerURL": "https://plot.ly"
       },
       "data": [
        {
         "geo": "geo",
         "hovertemplate": "Name=%{text}<br>Lat=%{lat}<br>Lon=%{lon}<extra></extra>",
         "lat": [
          -13.7380209,
          -13.698327800000001,
          -13.656908800000002,
          -13.622867800000002,
          -13.682004000000001,
          -13.668659699999997,
          -13.5735625,
          -13.8672296
         ],
         "legendgroup": "",
         "lon": [
          122.335450861,
          122.191732,
          122.29799647200001,
          122.307139972,
          122.39902166700001,
          122.27562772200001,
          122.340154361,
          122.069330472
         ],
         "marker": {
          "color": "#636efa"
         },
         "name": "",
         "showlegend": false,
         "text": [
          "Proteus_1",
          "Kronons_1",
          "Boreas_1",
          "Poseidon_1",
          "Pharos_1",
          "Poseidon_2",
          "Poseidon_North",
          "Torosa_1"
         ],
         "type": "scattergeo"
        }
       ],
       "layout": {
        "geo": {
         "center": {},
         "domain": {
          "x": [
           0,
           1
          ],
          "y": [
           0,
           1
          ]
         }
        },
        "legend": {
         "tracegroupgap": 0
        },
        "margin": {
         "t": 60
        },
        "template": {
         "data": {
          "bar": [
           {
            "error_x": {
             "color": "#2a3f5f"
            },
            "error_y": {
             "color": "#2a3f5f"
            },
            "marker": {
             "line": {
              "color": "#E5ECF6",
              "width": 0.5
             }
            },
            "type": "bar"
           }
          ],
          "barpolar": [
           {
            "marker": {
             "line": {
              "color": "#E5ECF6",
              "width": 0.5
             }
            },
            "type": "barpolar"
           }
          ],
          "carpet": [
           {
            "aaxis": {
             "endlinecolor": "#2a3f5f",
             "gridcolor": "white",
             "linecolor": "white",
             "minorgridcolor": "white",
             "startlinecolor": "#2a3f5f"
            },
            "baxis": {
             "endlinecolor": "#2a3f5f",
             "gridcolor": "white",
             "linecolor": "white",
             "minorgridcolor": "white",
             "startlinecolor": "#2a3f5f"
            },
            "type": "carpet"
           }
          ],
          "choropleth": [
           {
            "colorbar": {
             "outlinewidth": 0,
             "ticks": ""
            },
            "type": "choropleth"
           }
          ],
          "contour": [
           {
            "colorbar": {
             "outlinewidth": 0,
             "ticks": ""
            },
            "colorscale": [
             [
              0,
              "#0d0887"
             ],
             [
              0.1111111111111111,
              "#46039f"
             ],
             [
              0.2222222222222222,
              "#7201a8"
             ],
             [
              0.3333333333333333,
              "#9c179e"
             ],
             [
              0.4444444444444444,
              "#bd3786"
             ],
             [
              0.5555555555555556,
              "#d8576b"
             ],
             [
              0.6666666666666666,
              "#ed7953"
             ],
             [
              0.7777777777777778,
              "#fb9f3a"
             ],
             [
              0.8888888888888888,
              "#fdca26"
             ],
             [
              1,
              "#f0f921"
             ]
            ],
            "type": "contour"
           }
          ],
          "contourcarpet": [
           {
            "colorbar": {
             "outlinewidth": 0,
             "ticks": ""
            },
            "type": "contourcarpet"
           }
          ],
          "heatmap": [
           {
            "colorbar": {
             "outlinewidth": 0,
             "ticks": ""
            },
            "colorscale": [
             [
              0,
              "#0d0887"
             ],
             [
              0.1111111111111111,
              "#46039f"
             ],
             [
              0.2222222222222222,
              "#7201a8"
             ],
             [
              0.3333333333333333,
              "#9c179e"
             ],
             [
              0.4444444444444444,
              "#bd3786"
             ],
             [
              0.5555555555555556,
              "#d8576b"
             ],
             [
              0.6666666666666666,
              "#ed7953"
             ],
             [
              0.7777777777777778,
              "#fb9f3a"
             ],
             [
              0.8888888888888888,
              "#fdca26"
             ],
             [
              1,
              "#f0f921"
             ]
            ],
            "type": "heatmap"
           }
          ],
          "heatmapgl": [
           {
            "colorbar": {
             "outlinewidth": 0,
             "ticks": ""
            },
            "colorscale": [
             [
              0,
              "#0d0887"
             ],
             [
              0.1111111111111111,
              "#46039f"
             ],
             [
              0.2222222222222222,
              "#7201a8"
             ],
             [
              0.3333333333333333,
              "#9c179e"
             ],
             [
              0.4444444444444444,
              "#bd3786"
             ],
             [
              0.5555555555555556,
              "#d8576b"
             ],
             [
              0.6666666666666666,
              "#ed7953"
             ],
             [
              0.7777777777777778,
              "#fb9f3a"
             ],
             [
              0.8888888888888888,
              "#fdca26"
             ],
             [
              1,
              "#f0f921"
             ]
            ],
            "type": "heatmapgl"
           }
          ],
          "histogram": [
           {
            "marker": {
             "colorbar": {
              "outlinewidth": 0,
              "ticks": ""
             }
            },
            "type": "histogram"
           }
          ],
          "histogram2d": [
           {
            "colorbar": {
             "outlinewidth": 0,
             "ticks": ""
            },
            "colorscale": [
             [
              0,
              "#0d0887"
             ],
             [
              0.1111111111111111,
              "#46039f"
             ],
             [
              0.2222222222222222,
              "#7201a8"
             ],
             [
              0.3333333333333333,
              "#9c179e"
             ],
             [
              0.4444444444444444,
              "#bd3786"
             ],
             [
              0.5555555555555556,
              "#d8576b"
             ],
             [
              0.6666666666666666,
              "#ed7953"
             ],
             [
              0.7777777777777778,
              "#fb9f3a"
             ],
             [
              0.8888888888888888,
              "#fdca26"
             ],
             [
              1,
              "#f0f921"
             ]
            ],
            "type": "histogram2d"
           }
          ],
          "histogram2dcontour": [
           {
            "colorbar": {
             "outlinewidth": 0,
             "ticks": ""
            },
            "colorscale": [
             [
              0,
              "#0d0887"
             ],
             [
              0.1111111111111111,
              "#46039f"
             ],
             [
              0.2222222222222222,
              "#7201a8"
             ],
             [
              0.3333333333333333,
              "#9c179e"
             ],
             [
              0.4444444444444444,
              "#bd3786"
             ],
             [
              0.5555555555555556,
              "#d8576b"
             ],
             [
              0.6666666666666666,
              "#ed7953"
             ],
             [
              0.7777777777777778,
              "#fb9f3a"
             ],
             [
              0.8888888888888888,
              "#fdca26"
             ],
             [
              1,
              "#f0f921"
             ]
            ],
            "type": "histogram2dcontour"
           }
          ],
          "mesh3d": [
           {
            "colorbar": {
             "outlinewidth": 0,
             "ticks": ""
            },
            "type": "mesh3d"
           }
          ],
          "parcoords": [
           {
            "line": {
             "colorbar": {
              "outlinewidth": 0,
              "ticks": ""
             }
            },
            "type": "parcoords"
           }
          ],
          "pie": [
           {
            "automargin": true,
            "type": "pie"
           }
          ],
          "scatter": [
           {
            "marker": {
             "colorbar": {
              "outlinewidth": 0,
              "ticks": ""
             }
            },
            "type": "scatter"
           }
          ],
          "scatter3d": [
           {
            "line": {
             "colorbar": {
              "outlinewidth": 0,
              "ticks": ""
             }
            },
            "marker": {
             "colorbar": {
              "outlinewidth": 0,
              "ticks": ""
             }
            },
            "type": "scatter3d"
           }
          ],
          "scattercarpet": [
           {
            "marker": {
             "colorbar": {
              "outlinewidth": 0,
              "ticks": ""
             }
            },
            "type": "scattercarpet"
           }
          ],
          "scattergeo": [
           {
            "marker": {
             "colorbar": {
              "outlinewidth": 0,
              "ticks": ""
             }
            },
            "type": "scattergeo"
           }
          ],
          "scattergl": [
           {
            "marker": {
             "colorbar": {
              "outlinewidth": 0,
              "ticks": ""
             }
            },
            "type": "scattergl"
           }
          ],
          "scattermapbox": [
           {
            "marker": {
             "colorbar": {
              "outlinewidth": 0,
              "ticks": ""
             }
            },
            "type": "scattermapbox"
           }
          ],
          "scatterpolar": [
           {
            "marker": {
             "colorbar": {
              "outlinewidth": 0,
              "ticks": ""
             }
            },
            "type": "scatterpolar"
           }
          ],
          "scatterpolargl": [
           {
            "marker": {
             "colorbar": {
              "outlinewidth": 0,
              "ticks": ""
             }
            },
            "type": "scatterpolargl"
           }
          ],
          "scatterternary": [
           {
            "marker": {
             "colorbar": {
              "outlinewidth": 0,
              "ticks": ""
             }
            },
            "type": "scatterternary"
           }
          ],
          "surface": [
           {
            "colorbar": {
             "outlinewidth": 0,
             "ticks": ""
            },
            "colorscale": [
             [
              0,
              "#0d0887"
             ],
             [
              0.1111111111111111,
              "#46039f"
             ],
             [
              0.2222222222222222,
              "#7201a8"
             ],
             [
              0.3333333333333333,
              "#9c179e"
             ],
             [
              0.4444444444444444,
              "#bd3786"
             ],
             [
              0.5555555555555556,
              "#d8576b"
             ],
             [
              0.6666666666666666,
              "#ed7953"
             ],
             [
              0.7777777777777778,
              "#fb9f3a"
             ],
             [
              0.8888888888888888,
              "#fdca26"
             ],
             [
              1,
              "#f0f921"
             ]
            ],
            "type": "surface"
           }
          ],
          "table": [
           {
            "cells": {
             "fill": {
              "color": "#EBF0F8"
             },
             "line": {
              "color": "white"
             }
            },
            "header": {
             "fill": {
              "color": "#C8D4E3"
             },
             "line": {
              "color": "white"
             }
            },
            "type": "table"
           }
          ]
         },
         "layout": {
          "annotationdefaults": {
           "arrowcolor": "#2a3f5f",
           "arrowhead": 0,
           "arrowwidth": 1
          },
          "coloraxis": {
           "colorbar": {
            "outlinewidth": 0,
            "ticks": ""
           }
          },
          "colorscale": {
           "diverging": [
            [
             0,
             "#8e0152"
            ],
            [
             0.1,
             "#c51b7d"
            ],
            [
             0.2,
             "#de77ae"
            ],
            [
             0.3,
             "#f1b6da"
            ],
            [
             0.4,
             "#fde0ef"
            ],
            [
             0.5,
             "#f7f7f7"
            ],
            [
             0.6,
             "#e6f5d0"
            ],
            [
             0.7,
             "#b8e186"
            ],
            [
             0.8,
             "#7fbc41"
            ],
            [
             0.9,
             "#4d9221"
            ],
            [
             1,
             "#276419"
            ]
           ],
           "sequential": [
            [
             0,
             "#0d0887"
            ],
            [
             0.1111111111111111,
             "#46039f"
            ],
            [
             0.2222222222222222,
             "#7201a8"
            ],
            [
             0.3333333333333333,
             "#9c179e"
            ],
            [
             0.4444444444444444,
             "#bd3786"
            ],
            [
             0.5555555555555556,
             "#d8576b"
            ],
            [
             0.6666666666666666,
             "#ed7953"
            ],
            [
             0.7777777777777778,
             "#fb9f3a"
            ],
            [
             0.8888888888888888,
             "#fdca26"
            ],
            [
             1,
             "#f0f921"
            ]
           ],
           "sequentialminus": [
            [
             0,
             "#0d0887"
            ],
            [
             0.1111111111111111,
             "#46039f"
            ],
            [
             0.2222222222222222,
             "#7201a8"
            ],
            [
             0.3333333333333333,
             "#9c179e"
            ],
            [
             0.4444444444444444,
             "#bd3786"
            ],
            [
             0.5555555555555556,
             "#d8576b"
            ],
            [
             0.6666666666666666,
             "#ed7953"
            ],
            [
             0.7777777777777778,
             "#fb9f3a"
            ],
            [
             0.8888888888888888,
             "#fdca26"
            ],
            [
             1,
             "#f0f921"
            ]
           ]
          },
          "colorway": [
           "#636efa",
           "#EF553B",
           "#00cc96",
           "#ab63fa",
           "#FFA15A",
           "#19d3f3",
           "#FF6692",
           "#B6E880",
           "#FF97FF",
           "#FECB52"
          ],
          "font": {
           "color": "#2a3f5f"
          },
          "geo": {
           "bgcolor": "white",
           "lakecolor": "white",
           "landcolor": "#E5ECF6",
           "showlakes": true,
           "showland": true,
           "subunitcolor": "white"
          },
          "hoverlabel": {
           "align": "left"
          },
          "hovermode": "closest",
          "mapbox": {
           "style": "light"
          },
          "paper_bgcolor": "white",
          "plot_bgcolor": "#E5ECF6",
          "polar": {
           "angularaxis": {
            "gridcolor": "white",
            "linecolor": "white",
            "ticks": ""
           },
           "bgcolor": "#E5ECF6",
           "radialaxis": {
            "gridcolor": "white",
            "linecolor": "white",
            "ticks": ""
           }
          },
          "scene": {
           "xaxis": {
            "backgroundcolor": "#E5ECF6",
            "gridcolor": "white",
            "gridwidth": 2,
            "linecolor": "white",
            "showbackground": true,
            "ticks": "",
            "zerolinecolor": "white"
           },
           "yaxis": {
            "backgroundcolor": "#E5ECF6",
            "gridcolor": "white",
            "gridwidth": 2,
            "linecolor": "white",
            "showbackground": true,
            "ticks": "",
            "zerolinecolor": "white"
           },
           "zaxis": {
            "backgroundcolor": "#E5ECF6",
            "gridcolor": "white",
            "gridwidth": 2,
            "linecolor": "white",
            "showbackground": true,
            "ticks": "",
            "zerolinecolor": "white"
           }
          },
          "shapedefaults": {
           "line": {
            "color": "#2a3f5f"
           }
          },
          "ternary": {
           "aaxis": {
            "gridcolor": "white",
            "linecolor": "white",
            "ticks": ""
           },
           "baxis": {
            "gridcolor": "white",
            "linecolor": "white",
            "ticks": ""
           },
           "bgcolor": "#E5ECF6",
           "caxis": {
            "gridcolor": "white",
            "linecolor": "white",
            "ticks": ""
           }
          },
          "title": {
           "x": 0.05
          },
          "xaxis": {
           "automargin": true,
           "gridcolor": "white",
           "linecolor": "white",
           "ticks": "",
           "title": {
            "standoff": 15
           },
           "zerolinecolor": "white",
           "zerolinewidth": 2
          },
          "yaxis": {
           "automargin": true,
           "gridcolor": "white",
           "linecolor": "white",
           "ticks": "",
           "title": {
            "standoff": 15
           },
           "zerolinecolor": "white",
           "zerolinewidth": 2
          }
         }
        }
       }
      },
      "text/html": [
       "<div>\n",
       "        \n",
       "        \n",
       "            <div id=\"cbc89697-0b95-4254-bfe1-33bdbbff088c\" class=\"plotly-graph-div\" style=\"height:525px; width:100%;\"></div>\n",
       "            <script type=\"text/javascript\">\n",
       "                require([\"plotly\"], function(Plotly) {\n",
       "                    window.PLOTLYENV=window.PLOTLYENV || {};\n",
       "                    \n",
       "                if (document.getElementById(\"cbc89697-0b95-4254-bfe1-33bdbbff088c\")) {\n",
       "                    Plotly.newPlot(\n",
       "                        'cbc89697-0b95-4254-bfe1-33bdbbff088c',\n",
       "                        [{\"geo\": \"geo\", \"hovertemplate\": \"Name=%{text}<br>Lat=%{lat}<br>Lon=%{lon}<extra></extra>\", \"lat\": [-13.7380209, -13.698327800000001, -13.656908800000002, -13.622867800000002, -13.682004000000001, -13.668659699999997, -13.5735625, -13.8672296], \"legendgroup\": \"\", \"lon\": [122.335450861, 122.191732, 122.29799647200001, 122.307139972, 122.39902166700001, 122.27562772200001, 122.340154361, 122.069330472], \"marker\": {\"color\": \"#636efa\"}, \"name\": \"\", \"showlegend\": false, \"text\": [\"Proteus_1\", \"Kronons_1\", \"Boreas_1\", \"Poseidon_1\", \"Pharos_1\", \"Poseidon_2\", \"Poseidon_North\", \"Torosa_1\"], \"type\": \"scattergeo\"}],\n",
       "                        {\"geo\": {\"center\": {}, \"domain\": {\"x\": [0.0, 1.0], \"y\": [0.0, 1.0]}}, \"legend\": {\"tracegroupgap\": 0}, \"margin\": {\"t\": 60}, \"template\": {\"data\": {\"bar\": [{\"error_x\": {\"color\": \"#2a3f5f\"}, \"error_y\": {\"color\": \"#2a3f5f\"}, \"marker\": {\"line\": {\"color\": \"#E5ECF6\", \"width\": 0.5}}, \"type\": \"bar\"}], \"barpolar\": [{\"marker\": {\"line\": {\"color\": \"#E5ECF6\", \"width\": 0.5}}, \"type\": \"barpolar\"}], \"carpet\": [{\"aaxis\": {\"endlinecolor\": \"#2a3f5f\", \"gridcolor\": \"white\", \"linecolor\": \"white\", \"minorgridcolor\": \"white\", \"startlinecolor\": \"#2a3f5f\"}, \"baxis\": {\"endlinecolor\": \"#2a3f5f\", \"gridcolor\": \"white\", \"linecolor\": \"white\", \"minorgridcolor\": \"white\", \"startlinecolor\": \"#2a3f5f\"}, \"type\": \"carpet\"}], \"choropleth\": [{\"colorbar\": {\"outlinewidth\": 0, \"ticks\": \"\"}, \"type\": \"choropleth\"}], \"contour\": [{\"colorbar\": {\"outlinewidth\": 0, \"ticks\": \"\"}, \"colorscale\": [[0.0, \"#0d0887\"], [0.1111111111111111, \"#46039f\"], [0.2222222222222222, \"#7201a8\"], [0.3333333333333333, \"#9c179e\"], [0.4444444444444444, \"#bd3786\"], [0.5555555555555556, \"#d8576b\"], [0.6666666666666666, \"#ed7953\"], [0.7777777777777778, \"#fb9f3a\"], [0.8888888888888888, \"#fdca26\"], [1.0, \"#f0f921\"]], \"type\": \"contour\"}], \"contourcarpet\": [{\"colorbar\": {\"outlinewidth\": 0, \"ticks\": \"\"}, \"type\": \"contourcarpet\"}], \"heatmap\": [{\"colorbar\": {\"outlinewidth\": 0, \"ticks\": \"\"}, \"colorscale\": [[0.0, \"#0d0887\"], [0.1111111111111111, \"#46039f\"], [0.2222222222222222, \"#7201a8\"], [0.3333333333333333, \"#9c179e\"], [0.4444444444444444, \"#bd3786\"], [0.5555555555555556, \"#d8576b\"], [0.6666666666666666, \"#ed7953\"], [0.7777777777777778, \"#fb9f3a\"], [0.8888888888888888, \"#fdca26\"], [1.0, \"#f0f921\"]], \"type\": \"heatmap\"}], \"heatmapgl\": [{\"colorbar\": {\"outlinewidth\": 0, \"ticks\": \"\"}, \"colorscale\": [[0.0, \"#0d0887\"], [0.1111111111111111, \"#46039f\"], [0.2222222222222222, \"#7201a8\"], [0.3333333333333333, \"#9c179e\"], [0.4444444444444444, \"#bd3786\"], [0.5555555555555556, \"#d8576b\"], [0.6666666666666666, \"#ed7953\"], [0.7777777777777778, \"#fb9f3a\"], [0.8888888888888888, \"#fdca26\"], [1.0, \"#f0f921\"]], \"type\": \"heatmapgl\"}], \"histogram\": [{\"marker\": {\"colorbar\": {\"outlinewidth\": 0, \"ticks\": \"\"}}, \"type\": \"histogram\"}], \"histogram2d\": [{\"colorbar\": {\"outlinewidth\": 0, \"ticks\": \"\"}, \"colorscale\": [[0.0, \"#0d0887\"], [0.1111111111111111, \"#46039f\"], [0.2222222222222222, \"#7201a8\"], [0.3333333333333333, \"#9c179e\"], [0.4444444444444444, \"#bd3786\"], [0.5555555555555556, \"#d8576b\"], [0.6666666666666666, \"#ed7953\"], [0.7777777777777778, \"#fb9f3a\"], [0.8888888888888888, \"#fdca26\"], [1.0, \"#f0f921\"]], \"type\": \"histogram2d\"}], \"histogram2dcontour\": [{\"colorbar\": {\"outlinewidth\": 0, \"ticks\": \"\"}, \"colorscale\": [[0.0, \"#0d0887\"], [0.1111111111111111, \"#46039f\"], [0.2222222222222222, \"#7201a8\"], [0.3333333333333333, \"#9c179e\"], [0.4444444444444444, \"#bd3786\"], [0.5555555555555556, \"#d8576b\"], [0.6666666666666666, \"#ed7953\"], [0.7777777777777778, \"#fb9f3a\"], [0.8888888888888888, \"#fdca26\"], [1.0, \"#f0f921\"]], \"type\": \"histogram2dcontour\"}], \"mesh3d\": [{\"colorbar\": {\"outlinewidth\": 0, \"ticks\": \"\"}, \"type\": \"mesh3d\"}], \"parcoords\": [{\"line\": {\"colorbar\": {\"outlinewidth\": 0, \"ticks\": \"\"}}, \"type\": \"parcoords\"}], \"pie\": [{\"automargin\": true, \"type\": \"pie\"}], \"scatter\": [{\"marker\": {\"colorbar\": {\"outlinewidth\": 0, \"ticks\": \"\"}}, \"type\": \"scatter\"}], \"scatter3d\": [{\"line\": {\"colorbar\": {\"outlinewidth\": 0, \"ticks\": \"\"}}, \"marker\": {\"colorbar\": {\"outlinewidth\": 0, \"ticks\": \"\"}}, \"type\": \"scatter3d\"}], \"scattercarpet\": [{\"marker\": {\"colorbar\": {\"outlinewidth\": 0, \"ticks\": \"\"}}, \"type\": \"scattercarpet\"}], \"scattergeo\": [{\"marker\": {\"colorbar\": {\"outlinewidth\": 0, \"ticks\": \"\"}}, \"type\": \"scattergeo\"}], \"scattergl\": [{\"marker\": {\"colorbar\": {\"outlinewidth\": 0, \"ticks\": \"\"}}, \"type\": \"scattergl\"}], \"scattermapbox\": [{\"marker\": {\"colorbar\": {\"outlinewidth\": 0, \"ticks\": \"\"}}, \"type\": \"scattermapbox\"}], \"scatterpolar\": [{\"marker\": {\"colorbar\": {\"outlinewidth\": 0, \"ticks\": \"\"}}, \"type\": \"scatterpolar\"}], \"scatterpolargl\": [{\"marker\": {\"colorbar\": {\"outlinewidth\": 0, \"ticks\": \"\"}}, \"type\": \"scatterpolargl\"}], \"scatterternary\": [{\"marker\": {\"colorbar\": {\"outlinewidth\": 0, \"ticks\": \"\"}}, \"type\": \"scatterternary\"}], \"surface\": [{\"colorbar\": {\"outlinewidth\": 0, \"ticks\": \"\"}, \"colorscale\": [[0.0, \"#0d0887\"], [0.1111111111111111, \"#46039f\"], [0.2222222222222222, \"#7201a8\"], [0.3333333333333333, \"#9c179e\"], [0.4444444444444444, \"#bd3786\"], [0.5555555555555556, \"#d8576b\"], [0.6666666666666666, \"#ed7953\"], [0.7777777777777778, \"#fb9f3a\"], [0.8888888888888888, \"#fdca26\"], [1.0, \"#f0f921\"]], \"type\": \"surface\"}], \"table\": [{\"cells\": {\"fill\": {\"color\": \"#EBF0F8\"}, \"line\": {\"color\": \"white\"}}, \"header\": {\"fill\": {\"color\": \"#C8D4E3\"}, \"line\": {\"color\": \"white\"}}, \"type\": \"table\"}]}, \"layout\": {\"annotationdefaults\": {\"arrowcolor\": \"#2a3f5f\", \"arrowhead\": 0, \"arrowwidth\": 1}, \"coloraxis\": {\"colorbar\": {\"outlinewidth\": 0, \"ticks\": \"\"}}, \"colorscale\": {\"diverging\": [[0, \"#8e0152\"], [0.1, \"#c51b7d\"], [0.2, \"#de77ae\"], [0.3, \"#f1b6da\"], [0.4, \"#fde0ef\"], [0.5, \"#f7f7f7\"], [0.6, \"#e6f5d0\"], [0.7, \"#b8e186\"], [0.8, \"#7fbc41\"], [0.9, \"#4d9221\"], [1, \"#276419\"]], \"sequential\": [[0.0, \"#0d0887\"], [0.1111111111111111, \"#46039f\"], [0.2222222222222222, \"#7201a8\"], [0.3333333333333333, \"#9c179e\"], [0.4444444444444444, \"#bd3786\"], [0.5555555555555556, \"#d8576b\"], [0.6666666666666666, \"#ed7953\"], [0.7777777777777778, \"#fb9f3a\"], [0.8888888888888888, \"#fdca26\"], [1.0, \"#f0f921\"]], \"sequentialminus\": [[0.0, \"#0d0887\"], [0.1111111111111111, \"#46039f\"], [0.2222222222222222, \"#7201a8\"], [0.3333333333333333, \"#9c179e\"], [0.4444444444444444, \"#bd3786\"], [0.5555555555555556, \"#d8576b\"], [0.6666666666666666, \"#ed7953\"], [0.7777777777777778, \"#fb9f3a\"], [0.8888888888888888, \"#fdca26\"], [1.0, \"#f0f921\"]]}, \"colorway\": [\"#636efa\", \"#EF553B\", \"#00cc96\", \"#ab63fa\", \"#FFA15A\", \"#19d3f3\", \"#FF6692\", \"#B6E880\", \"#FF97FF\", \"#FECB52\"], \"font\": {\"color\": \"#2a3f5f\"}, \"geo\": {\"bgcolor\": \"white\", \"lakecolor\": \"white\", \"landcolor\": \"#E5ECF6\", \"showlakes\": true, \"showland\": true, \"subunitcolor\": \"white\"}, \"hoverlabel\": {\"align\": \"left\"}, \"hovermode\": \"closest\", \"mapbox\": {\"style\": \"light\"}, \"paper_bgcolor\": \"white\", \"plot_bgcolor\": \"#E5ECF6\", \"polar\": {\"angularaxis\": {\"gridcolor\": \"white\", \"linecolor\": \"white\", \"ticks\": \"\"}, \"bgcolor\": \"#E5ECF6\", \"radialaxis\": {\"gridcolor\": \"white\", \"linecolor\": \"white\", \"ticks\": \"\"}}, \"scene\": {\"xaxis\": {\"backgroundcolor\": \"#E5ECF6\", \"gridcolor\": \"white\", \"gridwidth\": 2, \"linecolor\": \"white\", \"showbackground\": true, \"ticks\": \"\", \"zerolinecolor\": \"white\"}, \"yaxis\": {\"backgroundcolor\": \"#E5ECF6\", \"gridcolor\": \"white\", \"gridwidth\": 2, \"linecolor\": \"white\", \"showbackground\": true, \"ticks\": \"\", \"zerolinecolor\": \"white\"}, \"zaxis\": {\"backgroundcolor\": \"#E5ECF6\", \"gridcolor\": \"white\", \"gridwidth\": 2, \"linecolor\": \"white\", \"showbackground\": true, \"ticks\": \"\", \"zerolinecolor\": \"white\"}}, \"shapedefaults\": {\"line\": {\"color\": \"#2a3f5f\"}}, \"ternary\": {\"aaxis\": {\"gridcolor\": \"white\", \"linecolor\": \"white\", \"ticks\": \"\"}, \"baxis\": {\"gridcolor\": \"white\", \"linecolor\": \"white\", \"ticks\": \"\"}, \"bgcolor\": \"#E5ECF6\", \"caxis\": {\"gridcolor\": \"white\", \"linecolor\": \"white\", \"ticks\": \"\"}}, \"title\": {\"x\": 0.05}, \"xaxis\": {\"automargin\": true, \"gridcolor\": \"white\", \"linecolor\": \"white\", \"ticks\": \"\", \"title\": {\"standoff\": 15}, \"zerolinecolor\": \"white\", \"zerolinewidth\": 2}, \"yaxis\": {\"automargin\": true, \"gridcolor\": \"white\", \"linecolor\": \"white\", \"ticks\": \"\", \"title\": {\"standoff\": 15}, \"zerolinecolor\": \"white\", \"zerolinewidth\": 2}}}},\n",
       "                        {\"responsive\": true}\n",
       "                    ).then(function(){\n",
       "                            \n",
       "var gd = document.getElementById('cbc89697-0b95-4254-bfe1-33bdbbff088c');\n",
       "var x = new MutationObserver(function (mutations, observer) {{\n",
       "        var display = window.getComputedStyle(gd).display;\n",
       "        if (!display || display === 'none') {{\n",
       "            console.log([gd, 'removed!']);\n",
       "            Plotly.purge(gd);\n",
       "            observer.disconnect();\n",
       "        }}\n",
       "}});\n",
       "\n",
       "// Listen for the removal of the full notebook cells\n",
       "var notebookContainer = gd.closest('#notebook-container');\n",
       "if (notebookContainer) {{\n",
       "    x.observe(notebookContainer, {childList: true});\n",
       "}}\n",
       "\n",
       "// Listen for the clearing of the current output cell\n",
       "var outputEl = gd.closest('.output');\n",
       "if (outputEl) {{\n",
       "    x.observe(outputEl, {childList: true});\n",
       "}}\n",
       "\n",
       "                        })\n",
       "                };\n",
       "                });\n",
       "            </script>\n",
       "        </div>"
      ]
     },
     "metadata": {},
     "output_type": "display_data"
    }
   ],
   "source": [
    "\n",
    "fig = px.scatter_geo(Heads, lat='Lat', lon='Lon', text= 'Name',               \n",
    "                     )\n",
    "fig.show()"
   ]
  },
  {
   "cell_type": "code",
   "execution_count": 36,
   "metadata": {},
   "outputs": [],
   "source": [
    "#Below is an attempt to turn the dataframe into a Geodataframe, add to iphython leaflet map and use an iphython widget drop down to select\n",
    "\n",
    "\n",
    "gdf = gpd.GeoDataFrame(\n",
    "    Heads, geometry=gpd.points_from_xy(Heads.Lon, Heads.Lat))"
   ]
  },
  {
   "cell_type": "code",
   "execution_count": 37,
   "metadata": {},
   "outputs": [
    {
     "data": {
      "text/html": [
       "<div>\n",
       "<style scoped>\n",
       "    .dataframe tbody tr th:only-of-type {\n",
       "        vertical-align: middle;\n",
       "    }\n",
       "\n",
       "    .dataframe tbody tr th {\n",
       "        vertical-align: top;\n",
       "    }\n",
       "\n",
       "    .dataframe thead th {\n",
       "        text-align: right;\n",
       "    }\n",
       "</style>\n",
       "<table border=\"1\" class=\"dataframe\">\n",
       "  <thead>\n",
       "    <tr style=\"text-align: right;\">\n",
       "      <th></th>\n",
       "      <th>Name</th>\n",
       "      <th>X</th>\n",
       "      <th>Y</th>\n",
       "      <th>Lat_D</th>\n",
       "      <th>Lat_M</th>\n",
       "      <th>Lat_S</th>\n",
       "      <th>Lat</th>\n",
       "      <th>Lon_D</th>\n",
       "      <th>Lon_M</th>\n",
       "      <th>Lon_S</th>\n",
       "      <th>Lon</th>\n",
       "      <th>DFE</th>\n",
       "      <th>TD_(TVDSS)</th>\n",
       "      <th>TD_(MD)</th>\n",
       "      <th>geometry</th>\n",
       "    </tr>\n",
       "  </thead>\n",
       "  <tbody>\n",
       "    <tr>\n",
       "      <th>0</th>\n",
       "      <td>Proteus_1</td>\n",
       "      <td>428152.83</td>\n",
       "      <td>8481148.02</td>\n",
       "      <td>-13</td>\n",
       "      <td>44</td>\n",
       "      <td>16.8752</td>\n",
       "      <td>-13.738021</td>\n",
       "      <td>122</td>\n",
       "      <td>20</td>\n",
       "      <td>7.6231</td>\n",
       "      <td>122.335451</td>\n",
       "      <td>21.8</td>\n",
       "      <td>5223.6</td>\n",
       "      <td>5249.7</td>\n",
       "      <td>POINT (122.335450861 -13.7380209)</td>\n",
       "    </tr>\n",
       "    <tr>\n",
       "      <th>1</th>\n",
       "      <td>Kronons_1</td>\n",
       "      <td>412599.26</td>\n",
       "      <td>8485490.73</td>\n",
       "      <td>-13</td>\n",
       "      <td>41</td>\n",
       "      <td>53.9802</td>\n",
       "      <td>-13.698328</td>\n",
       "      <td>122</td>\n",
       "      <td>11</td>\n",
       "      <td>30.2352</td>\n",
       "      <td>122.191732</td>\n",
       "      <td>21.8</td>\n",
       "      <td>5300.5</td>\n",
       "      <td>5329.0</td>\n",
       "      <td>POINT (122.191732 -13.6983278)</td>\n",
       "    </tr>\n",
       "    <tr>\n",
       "      <th>2</th>\n",
       "      <td>Boreas_1</td>\n",
       "      <td>424077.28</td>\n",
       "      <td>8490107.52</td>\n",
       "      <td>-13</td>\n",
       "      <td>39</td>\n",
       "      <td>24.8717</td>\n",
       "      <td>-13.656909</td>\n",
       "      <td>122</td>\n",
       "      <td>17</td>\n",
       "      <td>52.7873</td>\n",
       "      <td>122.297996</td>\n",
       "      <td>21.8</td>\n",
       "      <td>5184.1</td>\n",
       "      <td>5210.0</td>\n",
       "      <td>POINT (122.297996472 -13.6569088)</td>\n",
       "    </tr>\n",
       "    <tr>\n",
       "      <th>3</th>\n",
       "      <td>Poseidon_1</td>\n",
       "      <td>425055.47</td>\n",
       "      <td>8493875.26</td>\n",
       "      <td>-13</td>\n",
       "      <td>37</td>\n",
       "      <td>22.3242</td>\n",
       "      <td>-13.622868</td>\n",
       "      <td>122</td>\n",
       "      <td>18</td>\n",
       "      <td>25.7039</td>\n",
       "      <td>122.307140</td>\n",
       "      <td>26.4</td>\n",
       "      <td>5070.3</td>\n",
       "      <td>5112.0</td>\n",
       "      <td>POINT (122.307139972 -13.6228678)</td>\n",
       "    </tr>\n",
       "    <tr>\n",
       "      <th>4</th>\n",
       "      <td>Pharos_1</td>\n",
       "      <td>435010.57</td>\n",
       "      <td>8487361.39</td>\n",
       "      <td>-13</td>\n",
       "      <td>40</td>\n",
       "      <td>55.2145</td>\n",
       "      <td>-13.682004</td>\n",
       "      <td>122</td>\n",
       "      <td>23</td>\n",
       "      <td>56.4780</td>\n",
       "      <td>122.399022</td>\n",
       "      <td>22.1</td>\n",
       "      <td>5197.3</td>\n",
       "      <td>5220.3</td>\n",
       "      <td>POINT (122.399021667 -13.682004)</td>\n",
       "    </tr>\n",
       "    <tr>\n",
       "      <th>5</th>\n",
       "      <td>Poseidon_2</td>\n",
       "      <td>421661.83</td>\n",
       "      <td>8488800.77</td>\n",
       "      <td>-13</td>\n",
       "      <td>40</td>\n",
       "      <td>7.1748</td>\n",
       "      <td>-13.668660</td>\n",
       "      <td>122</td>\n",
       "      <td>16</td>\n",
       "      <td>32.2598</td>\n",
       "      <td>122.275628</td>\n",
       "      <td>21.8</td>\n",
       "      <td>5331.7</td>\n",
       "      <td>5356.0</td>\n",
       "      <td>POINT (122.275627722 -13.6686597)</td>\n",
       "    </tr>\n",
       "    <tr>\n",
       "      <th>6</th>\n",
       "      <td>Poseidon_North</td>\n",
       "      <td>428611.91</td>\n",
       "      <td>8499338.27</td>\n",
       "      <td>-13</td>\n",
       "      <td>34</td>\n",
       "      <td>24.8249</td>\n",
       "      <td>-13.573562</td>\n",
       "      <td>122</td>\n",
       "      <td>20</td>\n",
       "      <td>24.5557</td>\n",
       "      <td>122.340154</td>\n",
       "      <td>22.0</td>\n",
       "      <td>5263.3</td>\n",
       "      <td>5287.5</td>\n",
       "      <td>POINT (122.340154361 -13.5735625)</td>\n",
       "    </tr>\n",
       "    <tr>\n",
       "      <th>7</th>\n",
       "      <td>Torosa_1</td>\n",
       "      <td>399434.90</td>\n",
       "      <td>8466761.60</td>\n",
       "      <td>-13</td>\n",
       "      <td>52</td>\n",
       "      <td>2.0264</td>\n",
       "      <td>-13.867230</td>\n",
       "      <td>122</td>\n",
       "      <td>4</td>\n",
       "      <td>9.5897</td>\n",
       "      <td>122.069330</td>\n",
       "      <td>22.9</td>\n",
       "      <td>4645.4</td>\n",
       "      <td>4671.9</td>\n",
       "      <td>POINT (122.069330472 -13.8672296)</td>\n",
       "    </tr>\n",
       "  </tbody>\n",
       "</table>\n",
       "</div>"
      ],
      "text/plain": [
       "             Name          X           Y  Lat_D  Lat_M    Lat_S        Lat  \\\n",
       "0       Proteus_1  428152.83  8481148.02    -13     44  16.8752 -13.738021   \n",
       "1       Kronons_1  412599.26  8485490.73    -13     41  53.9802 -13.698328   \n",
       "2        Boreas_1  424077.28  8490107.52    -13     39  24.8717 -13.656909   \n",
       "3      Poseidon_1  425055.47  8493875.26    -13     37  22.3242 -13.622868   \n",
       "4        Pharos_1  435010.57  8487361.39    -13     40  55.2145 -13.682004   \n",
       "5      Poseidon_2  421661.83  8488800.77    -13     40   7.1748 -13.668660   \n",
       "6  Poseidon_North  428611.91  8499338.27    -13     34  24.8249 -13.573562   \n",
       "7        Torosa_1  399434.90  8466761.60    -13     52   2.0264 -13.867230   \n",
       "\n",
       "   Lon_D  Lon_M    Lon_S         Lon   DFE  TD_(TVDSS)  TD_(MD)  \\\n",
       "0    122     20   7.6231  122.335451  21.8      5223.6   5249.7   \n",
       "1    122     11  30.2352  122.191732  21.8      5300.5   5329.0   \n",
       "2    122     17  52.7873  122.297996  21.8      5184.1   5210.0   \n",
       "3    122     18  25.7039  122.307140  26.4      5070.3   5112.0   \n",
       "4    122     23  56.4780  122.399022  22.1      5197.3   5220.3   \n",
       "5    122     16  32.2598  122.275628  21.8      5331.7   5356.0   \n",
       "6    122     20  24.5557  122.340154  22.0      5263.3   5287.5   \n",
       "7    122      4   9.5897  122.069330  22.9      4645.4   4671.9   \n",
       "\n",
       "                            geometry  \n",
       "0  POINT (122.335450861 -13.7380209)  \n",
       "1     POINT (122.191732 -13.6983278)  \n",
       "2  POINT (122.297996472 -13.6569088)  \n",
       "3  POINT (122.307139972 -13.6228678)  \n",
       "4   POINT (122.399021667 -13.682004)  \n",
       "5  POINT (122.275627722 -13.6686597)  \n",
       "6  POINT (122.340154361 -13.5735625)  \n",
       "7  POINT (122.069330472 -13.8672296)  "
      ]
     },
     "execution_count": 37,
     "metadata": {},
     "output_type": "execute_result"
    }
   ],
   "source": [
    "gdf"
   ]
  },
  {
   "cell_type": "code",
   "execution_count": 67,
   "metadata": {},
   "outputs": [
    {
     "data": {
      "application/vnd.jupyter.widget-view+json": {
       "model_id": "618ad0c1dbe848d5ad3053a3a9d24073",
       "version_major": 2,
       "version_minor": 0
      },
      "text/plain": [
       "interactive(children=(Dropdown(description='Well name:', options=('Proteus_1', 'Kronons_1', 'Boreas_1', 'Posei…"
      ]
     },
     "metadata": {},
     "output_type": "display_data"
    }
   ],
   "source": [
    "# The iphython widget below can be used as data selector in other functions\n",
    "\n",
    "\n",
    "@interact( Well_select= widgets.Dropdown(options=Heads['Name'],value='Proteus_1',description='Well name:',disabled=False,))\n",
    "\n",
    "#Ipython leaflet map that gets which well to plot from the drop down\n",
    "\n",
    "def plot_wells(Well_select):\n",
    "    \n",
    "    defaultLayout = Layout(width='1024px', height='600px')\n",
    "    \n",
    "    m = Map(center=(28, -89), zoom=6, basemap=basemaps.Esri.NatGeoWorldMap, layout=defaultLayout)\n",
    "    \n",
    "    data_filter = gdf.loc[gdf['Name']== Well_select]\n",
    "    \n",
    "    \n",
    "    center_x = data_filter.Lon.mean()\n",
    "    center_y = data_filter.Lat.mean()\n",
    "    \n",
    "    m = Map(center=(center_y, center_x), zoom=7, basemap=basemaps.Esri.NatGeoWorldMap, layout=defaultLayout)\n",
    "    \n",
    "    geo_data = GeoData(geo_dataframe = data_filter,\n",
    "    #geo_data_2= GeoData(geo_dataframe = gdf, style={'Color':'blue'})\n",
    "    \n",
    "    m.add_layer(geo_data)\n",
    "    #m.add_layer(geo_data_2)\n",
    "    m.add_control(FullScreenControl())\n",
    "    \n",
    "    measure = MeasureControl(\n",
    "    position='topright',\n",
    "    active_color = 'orange',\n",
    "    primary_length_unit = 'miles'\n",
    "    )\n",
    "    m.add_control(measure)\n",
    "\n",
    "    measure.completed_color = 'red'\n",
    "\n",
    "    measure.add_length_unit('miles', 1.09361, 4)\n",
    "    measure.secondary_length_unit = 'miles'\n",
    "\n",
    "    measure.add_area_unit('sqmiles', 1.19599, 4)\n",
    "    measure.secondary_area_unit = 'sqmiles'\n",
    "    \n",
    "    zoom_slider = IntSlider(description='Zoom level:', min=0, max=15, value=7)\n",
    "    jslink((zoom_slider, 'value'), (m, 'zoom'))\n",
    "    widget_control1 = WidgetControl(widget=zoom_slider, position='bottomright')\n",
    "    m.add_control(widget_control1)\n",
    "    \n",
    "   \n",
    "    return m\n",
    "    \n"
   ]
  },
  {
   "cell_type": "code",
   "execution_count": 43,
   "metadata": {},
   "outputs": [],
   "source": []
  },
  {
   "cell_type": "code",
   "execution_count": null,
   "metadata": {},
   "outputs": [],
   "source": []
  }
 ],
 "metadata": {
  "kernelspec": {
   "display_name": "Python 3",
   "language": "python",
   "name": "python3"
  },
  "language_info": {
   "codemirror_mode": {
    "name": "ipython",
    "version": 3
   },
   "file_extension": ".py",
   "mimetype": "text/x-python",
   "name": "python",
   "nbconvert_exporter": "python",
   "pygments_lexer": "ipython3",
   "version": "3.6.9"
  }
 },
 "nbformat": 4,
 "nbformat_minor": 2
}
